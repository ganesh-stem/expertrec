{
  "nbformat": 4,
  "nbformat_minor": 0,
  "metadata": {
    "colab": {
      "name": "main.ipynb",
      "provenance": [],
      "collapsed_sections": []
    },
    "kernelspec": {
      "name": "python3",
      "display_name": "Python 3"
    },
    "language_info": {
      "name": "python"
    }
  },
  "cells": [
    {
      "cell_type": "code",
      "execution_count": 1,
      "metadata": {
        "id": "v6pkgjxAVqgM"
      },
      "outputs": [],
      "source": [
        "def getIndex(getList, value_to_search_for):\n",
        "  try: \n",
        "    for counter in range(len(getList) - 1, -1, -1):\n",
        "      if getList[counter] == value_to_search_for:\n",
        "        break\n",
        "  except:\n",
        "    print(\"Error in the getIndex function.\")\n",
        "  return counter + 1"
      ]
    },
    {
      "cell_type": "code",
      "source": [
        "try:\n",
        "  # Get the input value\n",
        "  getInput = input()\n",
        "\n",
        "  # Filter the list to store only integer value.\n",
        "  getInput = [int(element) for element in getInput if element != \" \"]\n",
        "\n",
        "  # Create a view of getInput\n",
        "  getInputTemp = getInput.copy()\n",
        "  getInputTemp.sort()\n",
        "\n",
        "  # Get the value of second highest number in the list.\n",
        "  second_highest_value = getInputTemp[-2]\n",
        "\n",
        "  getIndexValue = getIndex(getInput, second_highest_value)\n",
        "\n",
        "  # Output\n",
        "  print(\"value : \", second_highest_value)\n",
        "  print(\"position : \", getIndexValue)\n",
        "except:\n",
        "  print(\"Error in the code. Make sure that the input value must be numeric only.\")"
      ],
      "metadata": {
        "colab": {
          "base_uri": "https://localhost:8080/"
        },
        "id": "CzgD4gJ9woj2",
        "outputId": "1ad1251d-c589-47bb-d00f-74245b12e455"
      },
      "execution_count": 2,
      "outputs": [
        {
          "output_type": "stream",
          "name": "stdout",
          "text": [
            "4 3 2 6\n",
            "value :  4\n",
            "position :  1\n"
          ]
        }
      ]
    }
  ]
}